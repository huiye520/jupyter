{
 "cells": [
  {
   "cell_type": "code",
   "execution_count": 12,
   "id": "998fc963",
   "metadata": {},
   "outputs": [],
   "source": [
    "import tushare as ts\n",
    "import pandas as pd\n",
    "from pandas import DataFrame,Series\n",
    "import numpy as np\n",
    "\n",
    "pro = ts.pro_api('041ede9f0ab33a1281e1ce757b4b1ca0da35972e065ab1d08f9f078e')\n",
    "df = pro.daily(ts_code='601888.SH',start_date = '20200101')\n",
    "df.to_csv('./中免.csv')\n"
   ]
  },
  {
   "cell_type": "code",
   "execution_count": null,
   "id": "783dbf08",
   "metadata": {},
   "outputs": [],
   "source": []
  },
  {
   "cell_type": "code",
   "execution_count": null,
   "id": "f5edf9be",
   "metadata": {},
   "outputs": [],
   "source": []
  }
 ],
 "metadata": {
  "kernelspec": {
   "display_name": "Python 3 (ipykernel)",
   "language": "python",
   "name": "python3"
  },
  "language_info": {
   "codemirror_mode": {
    "name": "ipython",
    "version": 3
   },
   "file_extension": ".py",
   "mimetype": "text/x-python",
   "name": "python",
   "nbconvert_exporter": "python",
   "pygments_lexer": "ipython3",
   "version": "3.10.9"
  }
 },
 "nbformat": 4,
 "nbformat_minor": 5
}
